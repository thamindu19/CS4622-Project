{
  "cells": [
    {
      "cell_type": "markdown",
      "metadata": {
        "id": "CZcYSsLWJi5E"
      },
      "source": [
        "# ML4622 Machine Learning - Project"
      ]
    },
    {
      "cell_type": "markdown",
      "metadata": {
        "id": "aplyfMEo7YIx"
      },
      "source": [
        "## Pre-processing Data"
      ]
    },
    {
      "cell_type": "code",
      "execution_count": 1,
      "metadata": {
        "id": "BMm_AHmL4w2k"
      },
      "outputs": [],
      "source": [
        "import pandas as pd\n",
        "from sklearn.decomposition import PCA\n",
        "from sklearn.svm import SVC\n",
        "from sklearn.experimental import enable_halving_search_cv\n",
        "from sklearn.model_selection import HalvingGridSearchCV\n",
        "from sklearn import metrics\n",
        "\n",
        "data_train = pd.read_csv('data/train.csv')\n",
        "data_valid = pd.read_csv('data/valid.csv')\n",
        "data_test = pd.read_csv('data/test.csv')"
      ]
    },
    {
      "cell_type": "markdown",
      "metadata": {},
      "source": [
        "### Inspecting Data"
      ]
    },
    {
      "cell_type": "code",
      "execution_count": 2,
      "metadata": {
        "colab": {
          "base_uri": "https://localhost:8080/"
        },
        "id": "x6WnBtPr7PRy",
        "outputId": "0a5a7e8d-4bbd-4ae0-ead5-670220d9e65b"
      },
      "outputs": [
        {
          "data": {
            "text/plain": [
              "(28520, 772)"
            ]
          },
          "execution_count": 2,
          "metadata": {},
          "output_type": "execute_result"
        }
      ],
      "source": [
        "data_train.shape"
      ]
    },
    {
      "cell_type": "code",
      "execution_count": 3,
      "metadata": {
        "colab": {
          "base_uri": "https://localhost:8080/"
        },
        "id": "bmFfMhH4v__m",
        "outputId": "09cfbfc7-8390-48e4-8a37-03b1c5000f74"
      },
      "outputs": [
        {
          "data": {
            "text/plain": [
              "(750, 772)"
            ]
          },
          "execution_count": 3,
          "metadata": {},
          "output_type": "execute_result"
        }
      ],
      "source": [
        "data_valid.shape"
      ]
    },
    {
      "cell_type": "code",
      "execution_count": 4,
      "metadata": {
        "colab": {
          "base_uri": "https://localhost:8080/"
        },
        "id": "zhH9pPZ-wB9-",
        "outputId": "14e0448a-d3a9-4916-8264-fe0e7732e03a"
      },
      "outputs": [
        {
          "data": {
            "text/plain": [
              "(744, 769)"
            ]
          },
          "execution_count": 4,
          "metadata": {},
          "output_type": "execute_result"
        }
      ],
      "source": [
        "data_test.shape"
      ]
    },
    {
      "cell_type": "code",
      "execution_count": 5,
      "metadata": {
        "colab": {
          "base_uri": "https://localhost:8080/",
          "height": 256
        },
        "id": "1JCyD0beJ-Cz",
        "outputId": "6ab26a3c-cd91-4f80-cbb5-236af391412f"
      },
      "outputs": [
        {
          "data": {
            "text/html": [
              "<div>\n",
              "<style scoped>\n",
              "    .dataframe tbody tr th:only-of-type {\n",
              "        vertical-align: middle;\n",
              "    }\n",
              "\n",
              "    .dataframe tbody tr th {\n",
              "        vertical-align: top;\n",
              "    }\n",
              "\n",
              "    .dataframe thead th {\n",
              "        text-align: right;\n",
              "    }\n",
              "</style>\n",
              "<table border=\"1\" class=\"dataframe\">\n",
              "  <thead>\n",
              "    <tr style=\"text-align: right;\">\n",
              "      <th></th>\n",
              "      <th>ID</th>\n",
              "      <th>feature_1</th>\n",
              "      <th>feature_2</th>\n",
              "      <th>feature_3</th>\n",
              "      <th>feature_4</th>\n",
              "      <th>feature_5</th>\n",
              "      <th>feature_6</th>\n",
              "      <th>feature_7</th>\n",
              "      <th>feature_8</th>\n",
              "      <th>feature_9</th>\n",
              "      <th>...</th>\n",
              "      <th>feature_759</th>\n",
              "      <th>feature_760</th>\n",
              "      <th>feature_761</th>\n",
              "      <th>feature_762</th>\n",
              "      <th>feature_763</th>\n",
              "      <th>feature_764</th>\n",
              "      <th>feature_765</th>\n",
              "      <th>feature_766</th>\n",
              "      <th>feature_767</th>\n",
              "      <th>feature_768</th>\n",
              "    </tr>\n",
              "  </thead>\n",
              "  <tbody>\n",
              "    <tr>\n",
              "      <th>0</th>\n",
              "      <td>1</td>\n",
              "      <td>0.153160</td>\n",
              "      <td>0.112289</td>\n",
              "      <td>0.040273</td>\n",
              "      <td>0.006054</td>\n",
              "      <td>-0.082956</td>\n",
              "      <td>0.010444</td>\n",
              "      <td>0.045114</td>\n",
              "      <td>-0.165139</td>\n",
              "      <td>0.102368</td>\n",
              "      <td>...</td>\n",
              "      <td>0.106029</td>\n",
              "      <td>0.062651</td>\n",
              "      <td>0.038253</td>\n",
              "      <td>-0.156998</td>\n",
              "      <td>-0.048017</td>\n",
              "      <td>0.068254</td>\n",
              "      <td>0.047534</td>\n",
              "      <td>0.160371</td>\n",
              "      <td>0.076477</td>\n",
              "      <td>0.093875</td>\n",
              "    </tr>\n",
              "    <tr>\n",
              "      <th>1</th>\n",
              "      <td>2</td>\n",
              "      <td>0.067325</td>\n",
              "      <td>0.076545</td>\n",
              "      <td>0.105324</td>\n",
              "      <td>0.028182</td>\n",
              "      <td>-0.103412</td>\n",
              "      <td>-0.089486</td>\n",
              "      <td>0.141884</td>\n",
              "      <td>0.046473</td>\n",
              "      <td>0.003030</td>\n",
              "      <td>...</td>\n",
              "      <td>-0.005264</td>\n",
              "      <td>0.084812</td>\n",
              "      <td>0.160644</td>\n",
              "      <td>-0.075722</td>\n",
              "      <td>-0.054241</td>\n",
              "      <td>0.049832</td>\n",
              "      <td>0.003579</td>\n",
              "      <td>-0.017871</td>\n",
              "      <td>-0.059488</td>\n",
              "      <td>-0.102072</td>\n",
              "    </tr>\n",
              "    <tr>\n",
              "      <th>2</th>\n",
              "      <td>3</td>\n",
              "      <td>0.010169</td>\n",
              "      <td>0.116066</td>\n",
              "      <td>-0.012554</td>\n",
              "      <td>0.001083</td>\n",
              "      <td>-0.175814</td>\n",
              "      <td>0.014485</td>\n",
              "      <td>0.170519</td>\n",
              "      <td>-0.127064</td>\n",
              "      <td>-0.038071</td>\n",
              "      <td>...</td>\n",
              "      <td>0.037776</td>\n",
              "      <td>0.063297</td>\n",
              "      <td>0.079459</td>\n",
              "      <td>-0.382852</td>\n",
              "      <td>-0.099809</td>\n",
              "      <td>0.013234</td>\n",
              "      <td>-0.020953</td>\n",
              "      <td>-0.021539</td>\n",
              "      <td>-0.044730</td>\n",
              "      <td>-0.123528</td>\n",
              "    </tr>\n",
              "    <tr>\n",
              "      <th>3</th>\n",
              "      <td>4</td>\n",
              "      <td>0.162924</td>\n",
              "      <td>-0.003632</td>\n",
              "      <td>0.232407</td>\n",
              "      <td>0.127371</td>\n",
              "      <td>0.021365</td>\n",
              "      <td>-0.093776</td>\n",
              "      <td>0.128503</td>\n",
              "      <td>-0.119398</td>\n",
              "      <td>-0.043160</td>\n",
              "      <td>...</td>\n",
              "      <td>0.065360</td>\n",
              "      <td>0.152132</td>\n",
              "      <td>0.036445</td>\n",
              "      <td>-0.046519</td>\n",
              "      <td>-0.153139</td>\n",
              "      <td>0.018204</td>\n",
              "      <td>-0.112533</td>\n",
              "      <td>0.095837</td>\n",
              "      <td>0.091668</td>\n",
              "      <td>-0.111523</td>\n",
              "    </tr>\n",
              "    <tr>\n",
              "      <th>4</th>\n",
              "      <td>5</td>\n",
              "      <td>-0.030397</td>\n",
              "      <td>0.020162</td>\n",
              "      <td>-0.048599</td>\n",
              "      <td>0.008827</td>\n",
              "      <td>-0.118521</td>\n",
              "      <td>-0.023770</td>\n",
              "      <td>0.018864</td>\n",
              "      <td>-0.026707</td>\n",
              "      <td>-0.020216</td>\n",
              "      <td>...</td>\n",
              "      <td>-0.008395</td>\n",
              "      <td>0.060719</td>\n",
              "      <td>0.021331</td>\n",
              "      <td>-0.154071</td>\n",
              "      <td>-0.027794</td>\n",
              "      <td>0.018429</td>\n",
              "      <td>0.019384</td>\n",
              "      <td>-0.028690</td>\n",
              "      <td>0.020569</td>\n",
              "      <td>-0.052916</td>\n",
              "    </tr>\n",
              "  </tbody>\n",
              "</table>\n",
              "<p>5 rows × 769 columns</p>\n",
              "</div>"
            ],
            "text/plain": [
              "   ID  feature_1  feature_2  feature_3  feature_4  feature_5  feature_6  \\\n",
              "0   1   0.153160   0.112289   0.040273   0.006054  -0.082956   0.010444   \n",
              "1   2   0.067325   0.076545   0.105324   0.028182  -0.103412  -0.089486   \n",
              "2   3   0.010169   0.116066  -0.012554   0.001083  -0.175814   0.014485   \n",
              "3   4   0.162924  -0.003632   0.232407   0.127371   0.021365  -0.093776   \n",
              "4   5  -0.030397   0.020162  -0.048599   0.008827  -0.118521  -0.023770   \n",
              "\n",
              "   feature_7  feature_8  feature_9  ...  feature_759  feature_760  \\\n",
              "0   0.045114  -0.165139   0.102368  ...     0.106029     0.062651   \n",
              "1   0.141884   0.046473   0.003030  ...    -0.005264     0.084812   \n",
              "2   0.170519  -0.127064  -0.038071  ...     0.037776     0.063297   \n",
              "3   0.128503  -0.119398  -0.043160  ...     0.065360     0.152132   \n",
              "4   0.018864  -0.026707  -0.020216  ...    -0.008395     0.060719   \n",
              "\n",
              "   feature_761  feature_762  feature_763  feature_764  feature_765  \\\n",
              "0     0.038253    -0.156998    -0.048017     0.068254     0.047534   \n",
              "1     0.160644    -0.075722    -0.054241     0.049832     0.003579   \n",
              "2     0.079459    -0.382852    -0.099809     0.013234    -0.020953   \n",
              "3     0.036445    -0.046519    -0.153139     0.018204    -0.112533   \n",
              "4     0.021331    -0.154071    -0.027794     0.018429     0.019384   \n",
              "\n",
              "   feature_766  feature_767  feature_768  \n",
              "0     0.160371     0.076477     0.093875  \n",
              "1    -0.017871    -0.059488    -0.102072  \n",
              "2    -0.021539    -0.044730    -0.123528  \n",
              "3     0.095837     0.091668    -0.111523  \n",
              "4    -0.028690     0.020569    -0.052916  \n",
              "\n",
              "[5 rows x 769 columns]"
            ]
          },
          "execution_count": 5,
          "metadata": {},
          "output_type": "execute_result"
        }
      ],
      "source": [
        "data_test.head()"
      ]
    },
    {
      "cell_type": "markdown",
      "metadata": {},
      "source": [
        "### Handling Data"
      ]
    },
    {
      "cell_type": "code",
      "execution_count": 6,
      "metadata": {
        "id": "2GXwgvEo5ik6"
      },
      "outputs": [],
      "source": [
        "LABELS = [F'label_{i}' for i in range(1, 5)]\n",
        "FEATURES = [F'feature_{i}' for i in range(1, 769)]\n",
        "\n",
        "X_train, X_valid, X_test, y_train, y_valid, y_predict, y_test_1, y_test_2 = [{} for _ in range(8)]\n",
        "\n",
        "for label in LABELS:\n",
        "    if label == 'label_2':\n",
        "        df_train = data_train[data_train['label_2'].notna()]\n",
        "        df_valid = data_valid[data_valid['label_2'].notna()]\n",
        "    else:\n",
        "        df_train = data_train\n",
        "        df_valid = data_valid\n",
        "    df_test = data_test\n",
        "\n",
        "    X_train[label] = df_train.drop(LABELS, axis=1)\n",
        "    y_train[label] = df_train[label]\n",
        "    X_valid[label] = df_valid.drop(LABELS, axis=1)\n",
        "    y_valid[label] = df_valid[label]\n",
        "    X_test[label] = df_test.iloc[:, 1:]\n"
      ]
    },
    {
      "cell_type": "markdown",
      "metadata": {
        "id": "XKiV01nMcMDQ"
      },
      "source": [
        "## Feature Engineering & Dimensionality Reduction"
      ]
    },
    {
      "cell_type": "markdown",
      "metadata": {},
      "source": [
        "### Principal Component Analysis (PCA)"
      ]
    },
    {
      "cell_type": "code",
      "execution_count": 7,
      "metadata": {
        "id": "SNEFr_SEceFr"
      },
      "outputs": [],
      "source": [
        "def pca_reduce(X, pca, first_fit=False):\n",
        "  if first_fit:\n",
        "    X_train_pca = pca.fit_transform(X)\n",
        "  else:\n",
        "    X_train_pca = pca.transform(X)\n",
        "  return pd.DataFrame(data=X_train_pca, columns=[X.columns[i] for i in range(X_train_pca.shape[1])])"
      ]
    },
    {
      "cell_type": "markdown",
      "metadata": {
        "id": "PTaoi--6LdKc"
      },
      "source": [
        "## Hyper-parameter Tuning"
      ]
    },
    {
      "cell_type": "code",
      "execution_count": 8,
      "metadata": {
        "id": "p6Om6F6xLfhv"
      },
      "outputs": [],
      "source": [
        "C = [0.1, 1, 10, 100]\n",
        "svc_model = SVC(kernel='rbf')\n",
        "param_grid = {\n",
        "    'C':C\n",
        "}\n",
        "grid = HalvingGridSearchCV(svc_model, param_grid, cv=5, verbose=1)"
      ]
    },
    {
      "cell_type": "markdown",
      "metadata": {
        "id": "i5a9YVAnvxYz"
      },
      "source": [
        "## Predicting labels"
      ]
    },
    {
      "cell_type": "code",
      "execution_count": 9,
      "metadata": {},
      "outputs": [],
      "source": [
        "def svm(X, y):\n",
        "  model = SVC(kernel='rbf', random_state=40, C=100)\n",
        "  model.fit(X, y)\n",
        "  return model\n",
        "\n",
        "def predict(X, model):\n",
        "  y_pred = model.predict(X)\n",
        "  return pd.Series(y_pred)\n",
        "\n",
        "def show_metrics(y_true, y_pred):\n",
        "  print(metrics.confusion_matrix(y_true, y_pred))\n",
        "  print(metrics.classification_report(y_true, y_pred))\n",
        "  print(metrics.accuracy_score(y_true, y_pred))\n",
        "  print(metrics.precision_score(y_true, y_pred, average='weighted'))\n",
        "  print(metrics.recall_score(y_true, y_pred, average='weighted'))\n",
        "  print(metrics.f1_score(y_true, y_pred, average='weighted'))\n",
        "\n",
        "y_pred = {}"
      ]
    },
    {
      "cell_type": "markdown",
      "metadata": {},
      "source": [
        "### Label 1 - Speaker"
      ]
    },
    {
      "cell_type": "code",
      "execution_count": 10,
      "metadata": {
        "id": "2YuMj-nlIc0i"
      },
      "outputs": [
        {
          "name": "stdout",
          "output_type": "stream",
          "text": [
            "n_iterations: 2\n",
            "n_required_iterations: 2\n",
            "n_possible_iterations: 2\n",
            "min_resources_: 9506\n",
            "max_resources_: 28520\n",
            "aggressive_elimination: False\n",
            "factor: 3\n",
            "----------\n",
            "iter: 0\n",
            "n_candidates: 4\n",
            "n_resources: 9506\n",
            "Fitting 5 folds for each of 4 candidates, totalling 20 fits\n",
            "----------\n",
            "iter: 1\n",
            "n_candidates: 2\n",
            "n_resources: 28518\n",
            "Fitting 5 folds for each of 2 candidates, totalling 10 fits\n",
            "{'C': 100}\n",
            "[[13  0  0 ...  0  0  0]\n",
            " [ 0  9  0 ...  0  0  0]\n",
            " [ 0  0 12 ...  0  0  0]\n",
            " ...\n",
            " [ 0  0  0 ... 20  0  0]\n",
            " [ 0  0  0 ...  0 10  0]\n",
            " [ 0  0  0 ...  0  0 10]]\n",
            "              precision    recall  f1-score   support\n",
            "\n",
            "           1       1.00      1.00      1.00        13\n",
            "           2       1.00      1.00      1.00         9\n",
            "           3       1.00      1.00      1.00        12\n",
            "           4       0.89      1.00      0.94        16\n",
            "           5       0.94      0.94      0.94        18\n",
            "           6       1.00      1.00      1.00         9\n",
            "           7       1.00      0.94      0.97        17\n",
            "           8       1.00      0.93      0.96        14\n",
            "           9       1.00      0.91      0.95        11\n",
            "          10       1.00      1.00      1.00         8\n",
            "          11       1.00      1.00      1.00        19\n",
            "          12       1.00      1.00      1.00         7\n",
            "          13       1.00      0.91      0.95        11\n",
            "          14       0.93      0.93      0.93        15\n",
            "          15       1.00      0.94      0.97        17\n",
            "          16       1.00      1.00      1.00        14\n",
            "          17       0.93      1.00      0.97        14\n",
            "          18       1.00      0.95      0.97        19\n",
            "          19       1.00      0.87      0.93        15\n",
            "          20       1.00      1.00      1.00        11\n",
            "          21       1.00      0.93      0.96        14\n",
            "          22       0.85      1.00      0.92        11\n",
            "          23       0.91      1.00      0.95        10\n",
            "          24       0.92      1.00      0.96        12\n",
            "          25       1.00      1.00      1.00        11\n",
            "          26       1.00      1.00      1.00         7\n",
            "          27       0.94      1.00      0.97        16\n",
            "          28       1.00      1.00      1.00        11\n",
            "          29       0.93      0.93      0.93        15\n",
            "          30       0.88      0.88      0.88         8\n",
            "          31       0.92      0.92      0.92        12\n",
            "          32       1.00      1.00      1.00         9\n",
            "          33       0.86      1.00      0.92         6\n",
            "          34       1.00      0.92      0.96        13\n",
            "          35       1.00      1.00      1.00         8\n",
            "          36       1.00      1.00      1.00        18\n",
            "          37       1.00      0.94      0.97        16\n",
            "          38       1.00      1.00      1.00        11\n",
            "          39       1.00      1.00      1.00        13\n",
            "          40       1.00      0.92      0.96        12\n",
            "          41       0.91      1.00      0.95        10\n",
            "          42       0.92      1.00      0.96        12\n",
            "          43       1.00      1.00      1.00        12\n",
            "          44       1.00      0.95      0.97        19\n",
            "          45       0.93      0.93      0.93        14\n",
            "          46       1.00      1.00      1.00        11\n",
            "          47       1.00      1.00      1.00         8\n",
            "          48       0.94      1.00      0.97        17\n",
            "          49       1.00      1.00      1.00        13\n",
            "          50       1.00      1.00      1.00        13\n",
            "          51       0.89      1.00      0.94         8\n",
            "          52       1.00      1.00      1.00        11\n",
            "          53       1.00      1.00      1.00        15\n",
            "          54       1.00      0.89      0.94         9\n",
            "          55       1.00      1.00      1.00         8\n",
            "          56       0.91      1.00      0.95        10\n",
            "          57       1.00      1.00      1.00        18\n",
            "          58       1.00      1.00      1.00        20\n",
            "          59       1.00      1.00      1.00        10\n",
            "          60       1.00      1.00      1.00        10\n",
            "\n",
            "    accuracy                           0.97       750\n",
            "   macro avg       0.97      0.98      0.97       750\n",
            "weighted avg       0.98      0.97      0.97       750\n",
            "\n",
            "0.9733333333333334\n",
            "0.975188669282787\n",
            "0.9733333333333334\n",
            "0.9734232569403669\n"
          ]
        }
      ],
      "source": [
        "pca = PCA(n_components=0.97, svd_solver='full')\n",
        "X_train_red = pca_reduce(X_train['label_1'], pca, first_fit=True)\n",
        "X_train_red.shape\n",
        "X_valid_red = pca_reduce(X_valid['label_1'], pca)\n",
        "X_test_red = pca_reduce(X_test['label_1'], pca)\n",
        "X_test_red.shape\n",
        "\n",
        "grid.fit(X_train_red, y_train['label_1'])\n",
        "print(grid.best_params_)\n",
        "\n",
        "svm_model = svm(X_train_red, y_train['label_1'])\n",
        "y1_pred_X_valid = predict(X_valid_red, svm_model)\n",
        "\n",
        "show_metrics(y_valid['label_1'], y1_pred_X_valid)\n",
        "\n",
        "y1_pred_X_test = predict(X_test_red, svm_model)\n",
        "y_pred[0] = y1_pred_X_test"
      ]
    },
    {
      "cell_type": "markdown",
      "metadata": {},
      "source": [
        "### Label 2 - Age"
      ]
    },
    {
      "cell_type": "code",
      "execution_count": 11,
      "metadata": {},
      "outputs": [
        {
          "name": "stdout",
          "output_type": "stream",
          "text": [
            "n_iterations: 2\n",
            "n_required_iterations: 2\n",
            "n_possible_iterations: 2\n",
            "min_resources_: 9346\n",
            "max_resources_: 28040\n",
            "aggressive_elimination: False\n",
            "factor: 3\n",
            "----------\n",
            "iter: 0\n",
            "n_candidates: 4\n",
            "n_resources: 9346\n",
            "Fitting 5 folds for each of 4 candidates, totalling 20 fits\n",
            "----------\n",
            "iter: 1\n",
            "n_candidates: 2\n",
            "n_resources: 28038\n",
            "Fitting 5 folds for each of 2 candidates, totalling 10 fits\n",
            "{'C': 10}\n",
            "[[ 35   0   0   1   0   0   0   0   0   0   0   0   0   0   0   0   0]\n",
            " [  0  68   1   1   1   0   0   0   0   0   0   0   0   0   0   0   0]\n",
            " [  2   1  42   0   0   1   0   0   0   0   0   0   0   0   0   0   0]\n",
            " [  0   2   0  74   1   0   0   0   0   2   0   0   0   0   0   0   0]\n",
            " [  0   1   1   0 113   0   0   0   0   0   0   0   0   0   0   0   0]\n",
            " [  0   1   0   2   1  73   0   1   0   2   0   0   1   0   0   0   0]\n",
            " [  0   0   1   0   0   2  43   0   0   0   0   0   0   0   0   0   0]\n",
            " [  1   1   0   0   0   0   0  43   0   0   0   0   0   0   0   0   0]\n",
            " [  0   0   0   0   0   1   0   0  47   0   0   0   0   0   0   0   0]\n",
            " [  2   0   0   1   0   1   0   0   0  61   0   0   0   0   0   0   0]\n",
            " [  0   0   0   0   0   0   0   0   0   0  11   0   0   0   0   0   0]\n",
            " [  0   0   0   1   0   0   0   0   0   0   0  29   0   0   0   0   0]\n",
            " [  0   0   0   0   0   0   0   0   0   0   0   0  11   0   0   0   0]\n",
            " [  0   1   0   0   0   0   0   0   0   0   0   0   0  10   0   0   0]\n",
            " [  0   0   0   0   0   0   0   0   0   0   0   0   0   0   8   0   0]\n",
            " [  0   2   0   0   0   0   0   0   0   0   0   0   0   0   0  12   0]\n",
            " [  0   0   0   0   0   0   1   0   0   0   0   0   0   0   0   0  18]]\n",
            "              precision    recall  f1-score   support\n",
            "\n",
            "        22.0       0.88      0.97      0.92        36\n",
            "        23.0       0.88      0.96      0.92        71\n",
            "        24.0       0.93      0.91      0.92        46\n",
            "        25.0       0.93      0.94      0.93        79\n",
            "        26.0       0.97      0.98      0.98       115\n",
            "        27.0       0.94      0.90      0.92        81\n",
            "        28.0       0.98      0.93      0.96        46\n",
            "        29.0       0.98      0.96      0.97        45\n",
            "        30.0       1.00      0.98      0.99        48\n",
            "        31.0       0.94      0.94      0.94        65\n",
            "        32.0       1.00      1.00      1.00        11\n",
            "        33.0       1.00      0.97      0.98        30\n",
            "        34.0       0.92      1.00      0.96        11\n",
            "        35.0       1.00      0.91      0.95        11\n",
            "        36.0       1.00      1.00      1.00         8\n",
            "        41.0       1.00      0.86      0.92        14\n",
            "        61.0       1.00      0.95      0.97        19\n",
            "\n",
            "    accuracy                           0.95       736\n",
            "   macro avg       0.96      0.95      0.95       736\n",
            "weighted avg       0.95      0.95      0.95       736\n",
            "\n",
            "0.9483695652173914\n",
            "0.9498075243565779\n",
            "0.9483695652173914\n",
            "0.9485297629659987\n"
          ]
        }
      ],
      "source": [
        "pca = PCA(n_components=0.98, svd_solver='full')\n",
        "X_train_red = pca_reduce(X_train['label_2'], pca, first_fit=True)\n",
        "X_train_red.shape\n",
        "X_valid_red = pca_reduce(X_valid['label_2'], pca)\n",
        "X_test_red = pca_reduce(X_test['label_2'], pca)\n",
        "X_test_red.shape\n",
        "\n",
        "grid.fit(X_train_red, y_train['label_2'])\n",
        "print(grid.best_params_)\n",
        "\n",
        "svm_model = svm(X_train_red, y_train['label_2'])\n",
        "y2_pred_X_valid = predict(X_valid_red, svm_model)\n",
        "\n",
        "show_metrics(y_valid['label_2'], y2_pred_X_valid)\n",
        "\n",
        "y2_pred_X_test = predict(X_test_red, svm_model)\n",
        "y_pred[1] = y2_pred_X_test.astype(int)"
      ]
    },
    {
      "cell_type": "markdown",
      "metadata": {},
      "source": [
        "### Label 3 - Gender"
      ]
    },
    {
      "cell_type": "code",
      "execution_count": 12,
      "metadata": {},
      "outputs": [
        {
          "name": "stdout",
          "output_type": "stream",
          "text": [
            "n_iterations: 2\n",
            "n_required_iterations: 2\n",
            "n_possible_iterations: 2\n",
            "min_resources_: 9506\n",
            "max_resources_: 28520\n",
            "aggressive_elimination: False\n",
            "factor: 3\n",
            "----------\n",
            "iter: 0\n",
            "n_candidates: 4\n",
            "n_resources: 9506\n",
            "Fitting 5 folds for each of 4 candidates, totalling 20 fits\n",
            "----------\n",
            "iter: 1\n",
            "n_candidates: 2\n",
            "n_resources: 28518\n",
            "Fitting 5 folds for each of 2 candidates, totalling 10 fits\n",
            "{'C': 100}\n",
            "[[142   0]\n",
            " [  1 607]]\n",
            "              precision    recall  f1-score   support\n",
            "\n",
            "           0       0.99      1.00      1.00       142\n",
            "           1       1.00      1.00      1.00       608\n",
            "\n",
            "    accuracy                           1.00       750\n",
            "   macro avg       1.00      1.00      1.00       750\n",
            "weighted avg       1.00      1.00      1.00       750\n",
            "\n",
            "0.9986666666666667\n",
            "0.9986759906759908\n",
            "0.9986666666666667\n",
            "0.9986684571511081\n"
          ]
        }
      ],
      "source": [
        "pca = PCA(n_components=0.95, svd_solver='full')\n",
        "X_train_red = pca_reduce(X_train['label_3'], pca, first_fit=True)\n",
        "X_train_red.shape\n",
        "X_valid_red = pca_reduce(X_valid['label_3'], pca)\n",
        "X_test_red = pca_reduce(X_test['label_3'], pca)\n",
        "X_test_red.shape\n",
        "\n",
        "grid.fit(X_train_red, y_train['label_3'])\n",
        "print(grid.best_params_)\n",
        "\n",
        "svm_model = svm(X_train_red, y_train['label_3'])\n",
        "y3_pred_X_valid = predict(X_valid_red, svm_model)\n",
        "\n",
        "show_metrics(y_valid['label_3'], y3_pred_X_valid)\n",
        "\n",
        "y3_pred_X_test = predict(X_test_red, svm_model)\n",
        "y_pred[2] = y3_pred_X_test"
      ]
    },
    {
      "cell_type": "markdown",
      "metadata": {},
      "source": [
        "### Label 4 - Accent"
      ]
    },
    {
      "cell_type": "code",
      "execution_count": 13,
      "metadata": {},
      "outputs": [
        {
          "name": "stdout",
          "output_type": "stream",
          "text": [
            "n_iterations: 2\n",
            "n_required_iterations: 2\n",
            "n_possible_iterations: 2\n",
            "min_resources_: 9506\n",
            "max_resources_: 28520\n",
            "aggressive_elimination: False\n",
            "factor: 3\n",
            "----------\n",
            "iter: 0\n",
            "n_candidates: 4\n",
            "n_resources: 9506\n",
            "Fitting 5 folds for each of 4 candidates, totalling 20 fits\n",
            "----------\n",
            "iter: 1\n",
            "n_candidates: 2\n",
            "n_resources: 28518\n",
            "Fitting 5 folds for each of 2 candidates, totalling 10 fits\n",
            "{'C': 10}\n",
            "[[ 21   0   0   0   0   0   0   0   0   0   0   0   0   0]\n",
            " [  0  10   0   0   0   0   1   0   0   0   0   0   0   0]\n",
            " [  0   0  27   0   0   0   0   0   0   0   0   0   0   0]\n",
            " [  0   0   0   8   0   0   0   0   0   0   0   0   0   0]\n",
            " [  0   0   0   0  14   0   1   0   0   0   0   0   0   0]\n",
            " [  0   0   0   0   0  10   1   0   0   0   0   0   0   0]\n",
            " [  0   0   1   0   0   1 530   0   0   0   0   0   0   0]\n",
            " [  0   0   0   0   0   0   2  30   0   0   0   0   0   0]\n",
            " [  0   0   0   0   0   0   1   0  18   0   0   0   0   0]\n",
            " [  0   0   0   0   0   0   2   0   0  15   0   0   0   0]\n",
            " [  0   0   0   0   0   0   0   0   0   0  10   0   0   0]\n",
            " [  0   0   0   0   0   0   1   0   0   0   0  10   0   0]\n",
            " [  0   0   0   0   0   0   0   0   0   0   0   0  26   0]\n",
            " [  0   0   0   0   0   0   0   0   0   0   0   0   0  10]]\n",
            "              precision    recall  f1-score   support\n",
            "\n",
            "           0       1.00      1.00      1.00        21\n",
            "           1       1.00      0.91      0.95        11\n",
            "           2       0.96      1.00      0.98        27\n",
            "           3       1.00      1.00      1.00         8\n",
            "           4       1.00      0.93      0.97        15\n",
            "           5       0.91      0.91      0.91        11\n",
            "           6       0.98      1.00      0.99       532\n",
            "           7       1.00      0.94      0.97        32\n",
            "           8       1.00      0.95      0.97        19\n",
            "           9       1.00      0.88      0.94        17\n",
            "          10       1.00      1.00      1.00        10\n",
            "          11       1.00      0.91      0.95        11\n",
            "          12       1.00      1.00      1.00        26\n",
            "          13       1.00      1.00      1.00        10\n",
            "\n",
            "    accuracy                           0.99       750\n",
            "   macro avg       0.99      0.96      0.97       750\n",
            "weighted avg       0.99      0.99      0.99       750\n",
            "\n",
            "0.9853333333333333\n",
            "0.9855367965367965\n",
            "0.9853333333333333\n",
            "0.9851625421554002\n"
          ]
        }
      ],
      "source": [
        "pca = PCA(n_components=0.97, svd_solver='full')\n",
        "X_train_red = pca_reduce(X_train['label_4'], pca, first_fit=True)\n",
        "X_train_red.shape\n",
        "X_valid_red = pca_reduce(X_valid['label_4'], pca)\n",
        "X_test_red = pca_reduce(X_test['label_4'], pca)\n",
        "X_test_red.shape\n",
        "\n",
        "grid.fit(X_train_red, y_train['label_4'])\n",
        "print(grid.best_params_)\n",
        "\n",
        "svm_model = svm(X_train_red, y_train['label_4'])\n",
        "y4_pred_X_valid = predict(X_valid_red, svm_model)\n",
        "\n",
        "show_metrics(y_valid['label_4'], y4_pred_X_valid)\n",
        "\n",
        "y4_pred_X_test = predict(X_test_red, svm_model)\n",
        "y_pred[3] = y4_pred_X_test"
      ]
    },
    {
      "cell_type": "markdown",
      "metadata": {},
      "source": [
        "## Formatting Output"
      ]
    },
    {
      "cell_type": "code",
      "execution_count": 14,
      "metadata": {},
      "outputs": [],
      "source": [
        "data = {\n",
        "  'ID' : list(range(1, y_pred[0].shape[0] + 1)),\n",
        "  'label_1': y_pred[0],\n",
        "  'label_2': y_pred[1],\n",
        "  'label_3': y_pred[2],\n",
        "  'label_4': y_pred[3]\n",
        "}\n",
        "df = pd.DataFrame(data)\n",
        "\n",
        "df.to_csv('output11.csv', index=False)"
      ]
    }
  ],
  "metadata": {
    "colab": {
      "provenance": []
    },
    "kernelspec": {
      "display_name": "Python 3",
      "name": "python3"
    },
    "language_info": {
      "codemirror_mode": {
        "name": "ipython",
        "version": 3
      },
      "file_extension": ".py",
      "mimetype": "text/x-python",
      "name": "python",
      "nbconvert_exporter": "python",
      "pygments_lexer": "ipython3",
      "version": "3.11.0"
    }
  },
  "nbformat": 4,
  "nbformat_minor": 0
}
